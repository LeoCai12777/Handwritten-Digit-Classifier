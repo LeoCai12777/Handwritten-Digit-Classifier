{
  "nbformat": 4,
  "nbformat_minor": 0,
  "metadata": {
    "colab": {
      "name": "MNISTNeuralNet.ipynb",
      "provenance": [],
      "collapsed_sections": []
    },
    "kernelspec": {
      "name": "python3",
      "display_name": "Python 3"
    },
    "language_info": {
      "name": "python"
    },
    "accelerator": "GPU",
    "widgets": {
      "application/vnd.jupyter.widget-state+json": {
        "28413b27522b477a9b99a8fdcc2c449d": {
          "model_module": "@jupyter-widgets/controls",
          "model_name": "HBoxModel",
          "model_module_version": "1.5.0",
          "state": {
            "_view_name": "HBoxView",
            "_dom_classes": [],
            "_model_name": "HBoxModel",
            "_view_module": "@jupyter-widgets/controls",
            "_model_module_version": "1.5.0",
            "_view_count": null,
            "_view_module_version": "1.5.0",
            "box_style": "",
            "layout": "IPY_MODEL_73e53266cea44232bb15c0eca802beb7",
            "_model_module": "@jupyter-widgets/controls",
            "children": [
              "IPY_MODEL_92e63fab2ea1431daa754c6dbc0ffd85",
              "IPY_MODEL_7e6548070a244c0faa70dfcabbfa5cf6",
              "IPY_MODEL_ef6e65b5d3a5496ab72f779664c3117e"
            ]
          }
        },
        "73e53266cea44232bb15c0eca802beb7": {
          "model_module": "@jupyter-widgets/base",
          "model_name": "LayoutModel",
          "model_module_version": "1.2.0",
          "state": {
            "_view_name": "LayoutView",
            "grid_template_rows": null,
            "right": null,
            "justify_content": null,
            "_view_module": "@jupyter-widgets/base",
            "overflow": null,
            "_model_module_version": "1.2.0",
            "_view_count": null,
            "flex_flow": null,
            "width": null,
            "min_width": null,
            "border": null,
            "align_items": null,
            "bottom": null,
            "_model_module": "@jupyter-widgets/base",
            "top": null,
            "grid_column": null,
            "overflow_y": null,
            "overflow_x": null,
            "grid_auto_flow": null,
            "grid_area": null,
            "grid_template_columns": null,
            "flex": null,
            "_model_name": "LayoutModel",
            "justify_items": null,
            "grid_row": null,
            "max_height": null,
            "align_content": null,
            "visibility": null,
            "align_self": null,
            "height": null,
            "min_height": null,
            "padding": null,
            "grid_auto_rows": null,
            "grid_gap": null,
            "max_width": null,
            "order": null,
            "_view_module_version": "1.2.0",
            "grid_template_areas": null,
            "object_position": null,
            "object_fit": null,
            "grid_auto_columns": null,
            "margin": null,
            "display": null,
            "left": null
          }
        },
        "92e63fab2ea1431daa754c6dbc0ffd85": {
          "model_module": "@jupyter-widgets/controls",
          "model_name": "HTMLModel",
          "model_module_version": "1.5.0",
          "state": {
            "_view_name": "HTMLView",
            "style": "IPY_MODEL_8e4c4d4a979e447caf550fa45449dc82",
            "_dom_classes": [],
            "description": "",
            "_model_name": "HTMLModel",
            "placeholder": "​",
            "_view_module": "@jupyter-widgets/controls",
            "_model_module_version": "1.5.0",
            "value": "",
            "_view_count": null,
            "_view_module_version": "1.5.0",
            "description_tooltip": null,
            "_model_module": "@jupyter-widgets/controls",
            "layout": "IPY_MODEL_7ca51c32aa634df98f25ec4d5cc57feb"
          }
        },
        "7e6548070a244c0faa70dfcabbfa5cf6": {
          "model_module": "@jupyter-widgets/controls",
          "model_name": "FloatProgressModel",
          "model_module_version": "1.5.0",
          "state": {
            "_view_name": "ProgressView",
            "style": "IPY_MODEL_3ca717dbb153418397cd163cdb3a2de9",
            "_dom_classes": [],
            "description": "",
            "_model_name": "FloatProgressModel",
            "bar_style": "success",
            "max": 9912422,
            "_view_module": "@jupyter-widgets/controls",
            "_model_module_version": "1.5.0",
            "value": 9912422,
            "_view_count": null,
            "_view_module_version": "1.5.0",
            "orientation": "horizontal",
            "min": 0,
            "description_tooltip": null,
            "_model_module": "@jupyter-widgets/controls",
            "layout": "IPY_MODEL_3848a08ca30640dda4e2c514463a03d7"
          }
        },
        "ef6e65b5d3a5496ab72f779664c3117e": {
          "model_module": "@jupyter-widgets/controls",
          "model_name": "HTMLModel",
          "model_module_version": "1.5.0",
          "state": {
            "_view_name": "HTMLView",
            "style": "IPY_MODEL_7435373dee2f476cac5213610e986bac",
            "_dom_classes": [],
            "description": "",
            "_model_name": "HTMLModel",
            "placeholder": "​",
            "_view_module": "@jupyter-widgets/controls",
            "_model_module_version": "1.5.0",
            "value": " 9913344/? [00:00&lt;00:00, 30552277.36it/s]",
            "_view_count": null,
            "_view_module_version": "1.5.0",
            "description_tooltip": null,
            "_model_module": "@jupyter-widgets/controls",
            "layout": "IPY_MODEL_bc89c52a3085435cb40f6f31b8e66a09"
          }
        },
        "8e4c4d4a979e447caf550fa45449dc82": {
          "model_module": "@jupyter-widgets/controls",
          "model_name": "DescriptionStyleModel",
          "model_module_version": "1.5.0",
          "state": {
            "_view_name": "StyleView",
            "_model_name": "DescriptionStyleModel",
            "description_width": "",
            "_view_module": "@jupyter-widgets/base",
            "_model_module_version": "1.5.0",
            "_view_count": null,
            "_view_module_version": "1.2.0",
            "_model_module": "@jupyter-widgets/controls"
          }
        },
        "7ca51c32aa634df98f25ec4d5cc57feb": {
          "model_module": "@jupyter-widgets/base",
          "model_name": "LayoutModel",
          "model_module_version": "1.2.0",
          "state": {
            "_view_name": "LayoutView",
            "grid_template_rows": null,
            "right": null,
            "justify_content": null,
            "_view_module": "@jupyter-widgets/base",
            "overflow": null,
            "_model_module_version": "1.2.0",
            "_view_count": null,
            "flex_flow": null,
            "width": null,
            "min_width": null,
            "border": null,
            "align_items": null,
            "bottom": null,
            "_model_module": "@jupyter-widgets/base",
            "top": null,
            "grid_column": null,
            "overflow_y": null,
            "overflow_x": null,
            "grid_auto_flow": null,
            "grid_area": null,
            "grid_template_columns": null,
            "flex": null,
            "_model_name": "LayoutModel",
            "justify_items": null,
            "grid_row": null,
            "max_height": null,
            "align_content": null,
            "visibility": null,
            "align_self": null,
            "height": null,
            "min_height": null,
            "padding": null,
            "grid_auto_rows": null,
            "grid_gap": null,
            "max_width": null,
            "order": null,
            "_view_module_version": "1.2.0",
            "grid_template_areas": null,
            "object_position": null,
            "object_fit": null,
            "grid_auto_columns": null,
            "margin": null,
            "display": null,
            "left": null
          }
        },
        "3ca717dbb153418397cd163cdb3a2de9": {
          "model_module": "@jupyter-widgets/controls",
          "model_name": "ProgressStyleModel",
          "model_module_version": "1.5.0",
          "state": {
            "_view_name": "StyleView",
            "_model_name": "ProgressStyleModel",
            "description_width": "",
            "_view_module": "@jupyter-widgets/base",
            "_model_module_version": "1.5.0",
            "_view_count": null,
            "_view_module_version": "1.2.0",
            "bar_color": null,
            "_model_module": "@jupyter-widgets/controls"
          }
        },
        "3848a08ca30640dda4e2c514463a03d7": {
          "model_module": "@jupyter-widgets/base",
          "model_name": "LayoutModel",
          "model_module_version": "1.2.0",
          "state": {
            "_view_name": "LayoutView",
            "grid_template_rows": null,
            "right": null,
            "justify_content": null,
            "_view_module": "@jupyter-widgets/base",
            "overflow": null,
            "_model_module_version": "1.2.0",
            "_view_count": null,
            "flex_flow": null,
            "width": null,
            "min_width": null,
            "border": null,
            "align_items": null,
            "bottom": null,
            "_model_module": "@jupyter-widgets/base",
            "top": null,
            "grid_column": null,
            "overflow_y": null,
            "overflow_x": null,
            "grid_auto_flow": null,
            "grid_area": null,
            "grid_template_columns": null,
            "flex": null,
            "_model_name": "LayoutModel",
            "justify_items": null,
            "grid_row": null,
            "max_height": null,
            "align_content": null,
            "visibility": null,
            "align_self": null,
            "height": null,
            "min_height": null,
            "padding": null,
            "grid_auto_rows": null,
            "grid_gap": null,
            "max_width": null,
            "order": null,
            "_view_module_version": "1.2.0",
            "grid_template_areas": null,
            "object_position": null,
            "object_fit": null,
            "grid_auto_columns": null,
            "margin": null,
            "display": null,
            "left": null
          }
        },
        "7435373dee2f476cac5213610e986bac": {
          "model_module": "@jupyter-widgets/controls",
          "model_name": "DescriptionStyleModel",
          "model_module_version": "1.5.0",
          "state": {
            "_view_name": "StyleView",
            "_model_name": "DescriptionStyleModel",
            "description_width": "",
            "_view_module": "@jupyter-widgets/base",
            "_model_module_version": "1.5.0",
            "_view_count": null,
            "_view_module_version": "1.2.0",
            "_model_module": "@jupyter-widgets/controls"
          }
        },
        "bc89c52a3085435cb40f6f31b8e66a09": {
          "model_module": "@jupyter-widgets/base",
          "model_name": "LayoutModel",
          "model_module_version": "1.2.0",
          "state": {
            "_view_name": "LayoutView",
            "grid_template_rows": null,
            "right": null,
            "justify_content": null,
            "_view_module": "@jupyter-widgets/base",
            "overflow": null,
            "_model_module_version": "1.2.0",
            "_view_count": null,
            "flex_flow": null,
            "width": null,
            "min_width": null,
            "border": null,
            "align_items": null,
            "bottom": null,
            "_model_module": "@jupyter-widgets/base",
            "top": null,
            "grid_column": null,
            "overflow_y": null,
            "overflow_x": null,
            "grid_auto_flow": null,
            "grid_area": null,
            "grid_template_columns": null,
            "flex": null,
            "_model_name": "LayoutModel",
            "justify_items": null,
            "grid_row": null,
            "max_height": null,
            "align_content": null,
            "visibility": null,
            "align_self": null,
            "height": null,
            "min_height": null,
            "padding": null,
            "grid_auto_rows": null,
            "grid_gap": null,
            "max_width": null,
            "order": null,
            "_view_module_version": "1.2.0",
            "grid_template_areas": null,
            "object_position": null,
            "object_fit": null,
            "grid_auto_columns": null,
            "margin": null,
            "display": null,
            "left": null
          }
        },
        "099e189c25a741c3b69ee8874f57309a": {
          "model_module": "@jupyter-widgets/controls",
          "model_name": "HBoxModel",
          "model_module_version": "1.5.0",
          "state": {
            "_view_name": "HBoxView",
            "_dom_classes": [],
            "_model_name": "HBoxModel",
            "_view_module": "@jupyter-widgets/controls",
            "_model_module_version": "1.5.0",
            "_view_count": null,
            "_view_module_version": "1.5.0",
            "box_style": "",
            "layout": "IPY_MODEL_2d65649ec6664fc2a96e0a66ae49215a",
            "_model_module": "@jupyter-widgets/controls",
            "children": [
              "IPY_MODEL_e0798996a87541b9acd48f8ed75d9247",
              "IPY_MODEL_34849a93543b4ba183c310d5954c1b66",
              "IPY_MODEL_9af644cd32714e688946c784046a0443"
            ]
          }
        },
        "2d65649ec6664fc2a96e0a66ae49215a": {
          "model_module": "@jupyter-widgets/base",
          "model_name": "LayoutModel",
          "model_module_version": "1.2.0",
          "state": {
            "_view_name": "LayoutView",
            "grid_template_rows": null,
            "right": null,
            "justify_content": null,
            "_view_module": "@jupyter-widgets/base",
            "overflow": null,
            "_model_module_version": "1.2.0",
            "_view_count": null,
            "flex_flow": null,
            "width": null,
            "min_width": null,
            "border": null,
            "align_items": null,
            "bottom": null,
            "_model_module": "@jupyter-widgets/base",
            "top": null,
            "grid_column": null,
            "overflow_y": null,
            "overflow_x": null,
            "grid_auto_flow": null,
            "grid_area": null,
            "grid_template_columns": null,
            "flex": null,
            "_model_name": "LayoutModel",
            "justify_items": null,
            "grid_row": null,
            "max_height": null,
            "align_content": null,
            "visibility": null,
            "align_self": null,
            "height": null,
            "min_height": null,
            "padding": null,
            "grid_auto_rows": null,
            "grid_gap": null,
            "max_width": null,
            "order": null,
            "_view_module_version": "1.2.0",
            "grid_template_areas": null,
            "object_position": null,
            "object_fit": null,
            "grid_auto_columns": null,
            "margin": null,
            "display": null,
            "left": null
          }
        },
        "e0798996a87541b9acd48f8ed75d9247": {
          "model_module": "@jupyter-widgets/controls",
          "model_name": "HTMLModel",
          "model_module_version": "1.5.0",
          "state": {
            "_view_name": "HTMLView",
            "style": "IPY_MODEL_1e695b8a915c4a47ae46ab5f6ac2bece",
            "_dom_classes": [],
            "description": "",
            "_model_name": "HTMLModel",
            "placeholder": "​",
            "_view_module": "@jupyter-widgets/controls",
            "_model_module_version": "1.5.0",
            "value": "",
            "_view_count": null,
            "_view_module_version": "1.5.0",
            "description_tooltip": null,
            "_model_module": "@jupyter-widgets/controls",
            "layout": "IPY_MODEL_4781ef0ef4e8418690e68edaf5a4ea3d"
          }
        },
        "34849a93543b4ba183c310d5954c1b66": {
          "model_module": "@jupyter-widgets/controls",
          "model_name": "FloatProgressModel",
          "model_module_version": "1.5.0",
          "state": {
            "_view_name": "ProgressView",
            "style": "IPY_MODEL_bcf54cc18a6249e2b8054a48c7287f08",
            "_dom_classes": [],
            "description": "",
            "_model_name": "FloatProgressModel",
            "bar_style": "success",
            "max": 28881,
            "_view_module": "@jupyter-widgets/controls",
            "_model_module_version": "1.5.0",
            "value": 28881,
            "_view_count": null,
            "_view_module_version": "1.5.0",
            "orientation": "horizontal",
            "min": 0,
            "description_tooltip": null,
            "_model_module": "@jupyter-widgets/controls",
            "layout": "IPY_MODEL_76a3184aa1874a47b9cea1203577b5bf"
          }
        },
        "9af644cd32714e688946c784046a0443": {
          "model_module": "@jupyter-widgets/controls",
          "model_name": "HTMLModel",
          "model_module_version": "1.5.0",
          "state": {
            "_view_name": "HTMLView",
            "style": "IPY_MODEL_e11114d0654c4266a795e08e74f697a0",
            "_dom_classes": [],
            "description": "",
            "_model_name": "HTMLModel",
            "placeholder": "​",
            "_view_module": "@jupyter-widgets/controls",
            "_model_module_version": "1.5.0",
            "value": " 29696/? [00:00&lt;00:00, 647696.87it/s]",
            "_view_count": null,
            "_view_module_version": "1.5.0",
            "description_tooltip": null,
            "_model_module": "@jupyter-widgets/controls",
            "layout": "IPY_MODEL_705ae00c50b4420b954f3bbeb1db56e2"
          }
        },
        "1e695b8a915c4a47ae46ab5f6ac2bece": {
          "model_module": "@jupyter-widgets/controls",
          "model_name": "DescriptionStyleModel",
          "model_module_version": "1.5.0",
          "state": {
            "_view_name": "StyleView",
            "_model_name": "DescriptionStyleModel",
            "description_width": "",
            "_view_module": "@jupyter-widgets/base",
            "_model_module_version": "1.5.0",
            "_view_count": null,
            "_view_module_version": "1.2.0",
            "_model_module": "@jupyter-widgets/controls"
          }
        },
        "4781ef0ef4e8418690e68edaf5a4ea3d": {
          "model_module": "@jupyter-widgets/base",
          "model_name": "LayoutModel",
          "model_module_version": "1.2.0",
          "state": {
            "_view_name": "LayoutView",
            "grid_template_rows": null,
            "right": null,
            "justify_content": null,
            "_view_module": "@jupyter-widgets/base",
            "overflow": null,
            "_model_module_version": "1.2.0",
            "_view_count": null,
            "flex_flow": null,
            "width": null,
            "min_width": null,
            "border": null,
            "align_items": null,
            "bottom": null,
            "_model_module": "@jupyter-widgets/base",
            "top": null,
            "grid_column": null,
            "overflow_y": null,
            "overflow_x": null,
            "grid_auto_flow": null,
            "grid_area": null,
            "grid_template_columns": null,
            "flex": null,
            "_model_name": "LayoutModel",
            "justify_items": null,
            "grid_row": null,
            "max_height": null,
            "align_content": null,
            "visibility": null,
            "align_self": null,
            "height": null,
            "min_height": null,
            "padding": null,
            "grid_auto_rows": null,
            "grid_gap": null,
            "max_width": null,
            "order": null,
            "_view_module_version": "1.2.0",
            "grid_template_areas": null,
            "object_position": null,
            "object_fit": null,
            "grid_auto_columns": null,
            "margin": null,
            "display": null,
            "left": null
          }
        },
        "bcf54cc18a6249e2b8054a48c7287f08": {
          "model_module": "@jupyter-widgets/controls",
          "model_name": "ProgressStyleModel",
          "model_module_version": "1.5.0",
          "state": {
            "_view_name": "StyleView",
            "_model_name": "ProgressStyleModel",
            "description_width": "",
            "_view_module": "@jupyter-widgets/base",
            "_model_module_version": "1.5.0",
            "_view_count": null,
            "_view_module_version": "1.2.0",
            "bar_color": null,
            "_model_module": "@jupyter-widgets/controls"
          }
        },
        "76a3184aa1874a47b9cea1203577b5bf": {
          "model_module": "@jupyter-widgets/base",
          "model_name": "LayoutModel",
          "model_module_version": "1.2.0",
          "state": {
            "_view_name": "LayoutView",
            "grid_template_rows": null,
            "right": null,
            "justify_content": null,
            "_view_module": "@jupyter-widgets/base",
            "overflow": null,
            "_model_module_version": "1.2.0",
            "_view_count": null,
            "flex_flow": null,
            "width": null,
            "min_width": null,
            "border": null,
            "align_items": null,
            "bottom": null,
            "_model_module": "@jupyter-widgets/base",
            "top": null,
            "grid_column": null,
            "overflow_y": null,
            "overflow_x": null,
            "grid_auto_flow": null,
            "grid_area": null,
            "grid_template_columns": null,
            "flex": null,
            "_model_name": "LayoutModel",
            "justify_items": null,
            "grid_row": null,
            "max_height": null,
            "align_content": null,
            "visibility": null,
            "align_self": null,
            "height": null,
            "min_height": null,
            "padding": null,
            "grid_auto_rows": null,
            "grid_gap": null,
            "max_width": null,
            "order": null,
            "_view_module_version": "1.2.0",
            "grid_template_areas": null,
            "object_position": null,
            "object_fit": null,
            "grid_auto_columns": null,
            "margin": null,
            "display": null,
            "left": null
          }
        },
        "e11114d0654c4266a795e08e74f697a0": {
          "model_module": "@jupyter-widgets/controls",
          "model_name": "DescriptionStyleModel",
          "model_module_version": "1.5.0",
          "state": {
            "_view_name": "StyleView",
            "_model_name": "DescriptionStyleModel",
            "description_width": "",
            "_view_module": "@jupyter-widgets/base",
            "_model_module_version": "1.5.0",
            "_view_count": null,
            "_view_module_version": "1.2.0",
            "_model_module": "@jupyter-widgets/controls"
          }
        },
        "705ae00c50b4420b954f3bbeb1db56e2": {
          "model_module": "@jupyter-widgets/base",
          "model_name": "LayoutModel",
          "model_module_version": "1.2.0",
          "state": {
            "_view_name": "LayoutView",
            "grid_template_rows": null,
            "right": null,
            "justify_content": null,
            "_view_module": "@jupyter-widgets/base",
            "overflow": null,
            "_model_module_version": "1.2.0",
            "_view_count": null,
            "flex_flow": null,
            "width": null,
            "min_width": null,
            "border": null,
            "align_items": null,
            "bottom": null,
            "_model_module": "@jupyter-widgets/base",
            "top": null,
            "grid_column": null,
            "overflow_y": null,
            "overflow_x": null,
            "grid_auto_flow": null,
            "grid_area": null,
            "grid_template_columns": null,
            "flex": null,
            "_model_name": "LayoutModel",
            "justify_items": null,
            "grid_row": null,
            "max_height": null,
            "align_content": null,
            "visibility": null,
            "align_self": null,
            "height": null,
            "min_height": null,
            "padding": null,
            "grid_auto_rows": null,
            "grid_gap": null,
            "max_width": null,
            "order": null,
            "_view_module_version": "1.2.0",
            "grid_template_areas": null,
            "object_position": null,
            "object_fit": null,
            "grid_auto_columns": null,
            "margin": null,
            "display": null,
            "left": null
          }
        },
        "c250afe61e0c44fd8260d55ea8e29271": {
          "model_module": "@jupyter-widgets/controls",
          "model_name": "HBoxModel",
          "model_module_version": "1.5.0",
          "state": {
            "_view_name": "HBoxView",
            "_dom_classes": [],
            "_model_name": "HBoxModel",
            "_view_module": "@jupyter-widgets/controls",
            "_model_module_version": "1.5.0",
            "_view_count": null,
            "_view_module_version": "1.5.0",
            "box_style": "",
            "layout": "IPY_MODEL_db60ab9415f64dfbb938810fef9bd424",
            "_model_module": "@jupyter-widgets/controls",
            "children": [
              "IPY_MODEL_083d42cebf2c4332bf158987c6ed6861",
              "IPY_MODEL_193ae7e72b0e4bc9ae1c95f4ad0ca3ee",
              "IPY_MODEL_2157a84dbe894ea8a741900ca7f96d58"
            ]
          }
        },
        "db60ab9415f64dfbb938810fef9bd424": {
          "model_module": "@jupyter-widgets/base",
          "model_name": "LayoutModel",
          "model_module_version": "1.2.0",
          "state": {
            "_view_name": "LayoutView",
            "grid_template_rows": null,
            "right": null,
            "justify_content": null,
            "_view_module": "@jupyter-widgets/base",
            "overflow": null,
            "_model_module_version": "1.2.0",
            "_view_count": null,
            "flex_flow": null,
            "width": null,
            "min_width": null,
            "border": null,
            "align_items": null,
            "bottom": null,
            "_model_module": "@jupyter-widgets/base",
            "top": null,
            "grid_column": null,
            "overflow_y": null,
            "overflow_x": null,
            "grid_auto_flow": null,
            "grid_area": null,
            "grid_template_columns": null,
            "flex": null,
            "_model_name": "LayoutModel",
            "justify_items": null,
            "grid_row": null,
            "max_height": null,
            "align_content": null,
            "visibility": null,
            "align_self": null,
            "height": null,
            "min_height": null,
            "padding": null,
            "grid_auto_rows": null,
            "grid_gap": null,
            "max_width": null,
            "order": null,
            "_view_module_version": "1.2.0",
            "grid_template_areas": null,
            "object_position": null,
            "object_fit": null,
            "grid_auto_columns": null,
            "margin": null,
            "display": null,
            "left": null
          }
        },
        "083d42cebf2c4332bf158987c6ed6861": {
          "model_module": "@jupyter-widgets/controls",
          "model_name": "HTMLModel",
          "model_module_version": "1.5.0",
          "state": {
            "_view_name": "HTMLView",
            "style": "IPY_MODEL_bb642c36711d4601b19c9425483af041",
            "_dom_classes": [],
            "description": "",
            "_model_name": "HTMLModel",
            "placeholder": "​",
            "_view_module": "@jupyter-widgets/controls",
            "_model_module_version": "1.5.0",
            "value": "",
            "_view_count": null,
            "_view_module_version": "1.5.0",
            "description_tooltip": null,
            "_model_module": "@jupyter-widgets/controls",
            "layout": "IPY_MODEL_14b5e300a97e4e019fc823e4f22b2d55"
          }
        },
        "193ae7e72b0e4bc9ae1c95f4ad0ca3ee": {
          "model_module": "@jupyter-widgets/controls",
          "model_name": "FloatProgressModel",
          "model_module_version": "1.5.0",
          "state": {
            "_view_name": "ProgressView",
            "style": "IPY_MODEL_3d1bd06072c24eb4af25303c44ca54f6",
            "_dom_classes": [],
            "description": "",
            "_model_name": "FloatProgressModel",
            "bar_style": "success",
            "max": 1648877,
            "_view_module": "@jupyter-widgets/controls",
            "_model_module_version": "1.5.0",
            "value": 1648877,
            "_view_count": null,
            "_view_module_version": "1.5.0",
            "orientation": "horizontal",
            "min": 0,
            "description_tooltip": null,
            "_model_module": "@jupyter-widgets/controls",
            "layout": "IPY_MODEL_a6d12e1a77e440f4b2851408700f9c9c"
          }
        },
        "2157a84dbe894ea8a741900ca7f96d58": {
          "model_module": "@jupyter-widgets/controls",
          "model_name": "HTMLModel",
          "model_module_version": "1.5.0",
          "state": {
            "_view_name": "HTMLView",
            "style": "IPY_MODEL_f60271b8aa124912b88c33d6a1822220",
            "_dom_classes": [],
            "description": "",
            "_model_name": "HTMLModel",
            "placeholder": "​",
            "_view_module": "@jupyter-widgets/controls",
            "_model_module_version": "1.5.0",
            "value": " 1649664/? [00:00&lt;00:00, 2154445.86it/s]",
            "_view_count": null,
            "_view_module_version": "1.5.0",
            "description_tooltip": null,
            "_model_module": "@jupyter-widgets/controls",
            "layout": "IPY_MODEL_de5e57296ab44321a8d4a624b8072e41"
          }
        },
        "bb642c36711d4601b19c9425483af041": {
          "model_module": "@jupyter-widgets/controls",
          "model_name": "DescriptionStyleModel",
          "model_module_version": "1.5.0",
          "state": {
            "_view_name": "StyleView",
            "_model_name": "DescriptionStyleModel",
            "description_width": "",
            "_view_module": "@jupyter-widgets/base",
            "_model_module_version": "1.5.0",
            "_view_count": null,
            "_view_module_version": "1.2.0",
            "_model_module": "@jupyter-widgets/controls"
          }
        },
        "14b5e300a97e4e019fc823e4f22b2d55": {
          "model_module": "@jupyter-widgets/base",
          "model_name": "LayoutModel",
          "model_module_version": "1.2.0",
          "state": {
            "_view_name": "LayoutView",
            "grid_template_rows": null,
            "right": null,
            "justify_content": null,
            "_view_module": "@jupyter-widgets/base",
            "overflow": null,
            "_model_module_version": "1.2.0",
            "_view_count": null,
            "flex_flow": null,
            "width": null,
            "min_width": null,
            "border": null,
            "align_items": null,
            "bottom": null,
            "_model_module": "@jupyter-widgets/base",
            "top": null,
            "grid_column": null,
            "overflow_y": null,
            "overflow_x": null,
            "grid_auto_flow": null,
            "grid_area": null,
            "grid_template_columns": null,
            "flex": null,
            "_model_name": "LayoutModel",
            "justify_items": null,
            "grid_row": null,
            "max_height": null,
            "align_content": null,
            "visibility": null,
            "align_self": null,
            "height": null,
            "min_height": null,
            "padding": null,
            "grid_auto_rows": null,
            "grid_gap": null,
            "max_width": null,
            "order": null,
            "_view_module_version": "1.2.0",
            "grid_template_areas": null,
            "object_position": null,
            "object_fit": null,
            "grid_auto_columns": null,
            "margin": null,
            "display": null,
            "left": null
          }
        },
        "3d1bd06072c24eb4af25303c44ca54f6": {
          "model_module": "@jupyter-widgets/controls",
          "model_name": "ProgressStyleModel",
          "model_module_version": "1.5.0",
          "state": {
            "_view_name": "StyleView",
            "_model_name": "ProgressStyleModel",
            "description_width": "",
            "_view_module": "@jupyter-widgets/base",
            "_model_module_version": "1.5.0",
            "_view_count": null,
            "_view_module_version": "1.2.0",
            "bar_color": null,
            "_model_module": "@jupyter-widgets/controls"
          }
        },
        "a6d12e1a77e440f4b2851408700f9c9c": {
          "model_module": "@jupyter-widgets/base",
          "model_name": "LayoutModel",
          "model_module_version": "1.2.0",
          "state": {
            "_view_name": "LayoutView",
            "grid_template_rows": null,
            "right": null,
            "justify_content": null,
            "_view_module": "@jupyter-widgets/base",
            "overflow": null,
            "_model_module_version": "1.2.0",
            "_view_count": null,
            "flex_flow": null,
            "width": null,
            "min_width": null,
            "border": null,
            "align_items": null,
            "bottom": null,
            "_model_module": "@jupyter-widgets/base",
            "top": null,
            "grid_column": null,
            "overflow_y": null,
            "overflow_x": null,
            "grid_auto_flow": null,
            "grid_area": null,
            "grid_template_columns": null,
            "flex": null,
            "_model_name": "LayoutModel",
            "justify_items": null,
            "grid_row": null,
            "max_height": null,
            "align_content": null,
            "visibility": null,
            "align_self": null,
            "height": null,
            "min_height": null,
            "padding": null,
            "grid_auto_rows": null,
            "grid_gap": null,
            "max_width": null,
            "order": null,
            "_view_module_version": "1.2.0",
            "grid_template_areas": null,
            "object_position": null,
            "object_fit": null,
            "grid_auto_columns": null,
            "margin": null,
            "display": null,
            "left": null
          }
        },
        "f60271b8aa124912b88c33d6a1822220": {
          "model_module": "@jupyter-widgets/controls",
          "model_name": "DescriptionStyleModel",
          "model_module_version": "1.5.0",
          "state": {
            "_view_name": "StyleView",
            "_model_name": "DescriptionStyleModel",
            "description_width": "",
            "_view_module": "@jupyter-widgets/base",
            "_model_module_version": "1.5.0",
            "_view_count": null,
            "_view_module_version": "1.2.0",
            "_model_module": "@jupyter-widgets/controls"
          }
        },
        "de5e57296ab44321a8d4a624b8072e41": {
          "model_module": "@jupyter-widgets/base",
          "model_name": "LayoutModel",
          "model_module_version": "1.2.0",
          "state": {
            "_view_name": "LayoutView",
            "grid_template_rows": null,
            "right": null,
            "justify_content": null,
            "_view_module": "@jupyter-widgets/base",
            "overflow": null,
            "_model_module_version": "1.2.0",
            "_view_count": null,
            "flex_flow": null,
            "width": null,
            "min_width": null,
            "border": null,
            "align_items": null,
            "bottom": null,
            "_model_module": "@jupyter-widgets/base",
            "top": null,
            "grid_column": null,
            "overflow_y": null,
            "overflow_x": null,
            "grid_auto_flow": null,
            "grid_area": null,
            "grid_template_columns": null,
            "flex": null,
            "_model_name": "LayoutModel",
            "justify_items": null,
            "grid_row": null,
            "max_height": null,
            "align_content": null,
            "visibility": null,
            "align_self": null,
            "height": null,
            "min_height": null,
            "padding": null,
            "grid_auto_rows": null,
            "grid_gap": null,
            "max_width": null,
            "order": null,
            "_view_module_version": "1.2.0",
            "grid_template_areas": null,
            "object_position": null,
            "object_fit": null,
            "grid_auto_columns": null,
            "margin": null,
            "display": null,
            "left": null
          }
        },
        "6940f97d183a4425915d43565c25ecff": {
          "model_module": "@jupyter-widgets/controls",
          "model_name": "HBoxModel",
          "model_module_version": "1.5.0",
          "state": {
            "_view_name": "HBoxView",
            "_dom_classes": [],
            "_model_name": "HBoxModel",
            "_view_module": "@jupyter-widgets/controls",
            "_model_module_version": "1.5.0",
            "_view_count": null,
            "_view_module_version": "1.5.0",
            "box_style": "",
            "layout": "IPY_MODEL_202bc5ec30ad4adbb703f23de1ee9b73",
            "_model_module": "@jupyter-widgets/controls",
            "children": [
              "IPY_MODEL_7b7b3e84542241bf826b323a350e0ed4",
              "IPY_MODEL_4d82978310f94c65a7764ef332664056",
              "IPY_MODEL_de78ed93f68744869f8dafe7a332f41b"
            ]
          }
        },
        "202bc5ec30ad4adbb703f23de1ee9b73": {
          "model_module": "@jupyter-widgets/base",
          "model_name": "LayoutModel",
          "model_module_version": "1.2.0",
          "state": {
            "_view_name": "LayoutView",
            "grid_template_rows": null,
            "right": null,
            "justify_content": null,
            "_view_module": "@jupyter-widgets/base",
            "overflow": null,
            "_model_module_version": "1.2.0",
            "_view_count": null,
            "flex_flow": null,
            "width": null,
            "min_width": null,
            "border": null,
            "align_items": null,
            "bottom": null,
            "_model_module": "@jupyter-widgets/base",
            "top": null,
            "grid_column": null,
            "overflow_y": null,
            "overflow_x": null,
            "grid_auto_flow": null,
            "grid_area": null,
            "grid_template_columns": null,
            "flex": null,
            "_model_name": "LayoutModel",
            "justify_items": null,
            "grid_row": null,
            "max_height": null,
            "align_content": null,
            "visibility": null,
            "align_self": null,
            "height": null,
            "min_height": null,
            "padding": null,
            "grid_auto_rows": null,
            "grid_gap": null,
            "max_width": null,
            "order": null,
            "_view_module_version": "1.2.0",
            "grid_template_areas": null,
            "object_position": null,
            "object_fit": null,
            "grid_auto_columns": null,
            "margin": null,
            "display": null,
            "left": null
          }
        },
        "7b7b3e84542241bf826b323a350e0ed4": {
          "model_module": "@jupyter-widgets/controls",
          "model_name": "HTMLModel",
          "model_module_version": "1.5.0",
          "state": {
            "_view_name": "HTMLView",
            "style": "IPY_MODEL_95eca037d5fb4feab3ab3ffc06574242",
            "_dom_classes": [],
            "description": "",
            "_model_name": "HTMLModel",
            "placeholder": "​",
            "_view_module": "@jupyter-widgets/controls",
            "_model_module_version": "1.5.0",
            "value": "",
            "_view_count": null,
            "_view_module_version": "1.5.0",
            "description_tooltip": null,
            "_model_module": "@jupyter-widgets/controls",
            "layout": "IPY_MODEL_b026ce7d9eed495eb8ebf160f8985313"
          }
        },
        "4d82978310f94c65a7764ef332664056": {
          "model_module": "@jupyter-widgets/controls",
          "model_name": "FloatProgressModel",
          "model_module_version": "1.5.0",
          "state": {
            "_view_name": "ProgressView",
            "style": "IPY_MODEL_88086f049dec4e04a849a18e431b0144",
            "_dom_classes": [],
            "description": "",
            "_model_name": "FloatProgressModel",
            "bar_style": "success",
            "max": 4542,
            "_view_module": "@jupyter-widgets/controls",
            "_model_module_version": "1.5.0",
            "value": 4542,
            "_view_count": null,
            "_view_module_version": "1.5.0",
            "orientation": "horizontal",
            "min": 0,
            "description_tooltip": null,
            "_model_module": "@jupyter-widgets/controls",
            "layout": "IPY_MODEL_f023dc22d2564ce3a67ed050ee9dcd6a"
          }
        },
        "de78ed93f68744869f8dafe7a332f41b": {
          "model_module": "@jupyter-widgets/controls",
          "model_name": "HTMLModel",
          "model_module_version": "1.5.0",
          "state": {
            "_view_name": "HTMLView",
            "style": "IPY_MODEL_1008f74a45984ca88b6428891d431a2b",
            "_dom_classes": [],
            "description": "",
            "_model_name": "HTMLModel",
            "placeholder": "​",
            "_view_module": "@jupyter-widgets/controls",
            "_model_module_version": "1.5.0",
            "value": " 5120/? [00:00&lt;00:00, 158176.53it/s]",
            "_view_count": null,
            "_view_module_version": "1.5.0",
            "description_tooltip": null,
            "_model_module": "@jupyter-widgets/controls",
            "layout": "IPY_MODEL_4daa8684e09e4019b502526f8b4b030a"
          }
        },
        "95eca037d5fb4feab3ab3ffc06574242": {
          "model_module": "@jupyter-widgets/controls",
          "model_name": "DescriptionStyleModel",
          "model_module_version": "1.5.0",
          "state": {
            "_view_name": "StyleView",
            "_model_name": "DescriptionStyleModel",
            "description_width": "",
            "_view_module": "@jupyter-widgets/base",
            "_model_module_version": "1.5.0",
            "_view_count": null,
            "_view_module_version": "1.2.0",
            "_model_module": "@jupyter-widgets/controls"
          }
        },
        "b026ce7d9eed495eb8ebf160f8985313": {
          "model_module": "@jupyter-widgets/base",
          "model_name": "LayoutModel",
          "model_module_version": "1.2.0",
          "state": {
            "_view_name": "LayoutView",
            "grid_template_rows": null,
            "right": null,
            "justify_content": null,
            "_view_module": "@jupyter-widgets/base",
            "overflow": null,
            "_model_module_version": "1.2.0",
            "_view_count": null,
            "flex_flow": null,
            "width": null,
            "min_width": null,
            "border": null,
            "align_items": null,
            "bottom": null,
            "_model_module": "@jupyter-widgets/base",
            "top": null,
            "grid_column": null,
            "overflow_y": null,
            "overflow_x": null,
            "grid_auto_flow": null,
            "grid_area": null,
            "grid_template_columns": null,
            "flex": null,
            "_model_name": "LayoutModel",
            "justify_items": null,
            "grid_row": null,
            "max_height": null,
            "align_content": null,
            "visibility": null,
            "align_self": null,
            "height": null,
            "min_height": null,
            "padding": null,
            "grid_auto_rows": null,
            "grid_gap": null,
            "max_width": null,
            "order": null,
            "_view_module_version": "1.2.0",
            "grid_template_areas": null,
            "object_position": null,
            "object_fit": null,
            "grid_auto_columns": null,
            "margin": null,
            "display": null,
            "left": null
          }
        },
        "88086f049dec4e04a849a18e431b0144": {
          "model_module": "@jupyter-widgets/controls",
          "model_name": "ProgressStyleModel",
          "model_module_version": "1.5.0",
          "state": {
            "_view_name": "StyleView",
            "_model_name": "ProgressStyleModel",
            "description_width": "",
            "_view_module": "@jupyter-widgets/base",
            "_model_module_version": "1.5.0",
            "_view_count": null,
            "_view_module_version": "1.2.0",
            "bar_color": null,
            "_model_module": "@jupyter-widgets/controls"
          }
        },
        "f023dc22d2564ce3a67ed050ee9dcd6a": {
          "model_module": "@jupyter-widgets/base",
          "model_name": "LayoutModel",
          "model_module_version": "1.2.0",
          "state": {
            "_view_name": "LayoutView",
            "grid_template_rows": null,
            "right": null,
            "justify_content": null,
            "_view_module": "@jupyter-widgets/base",
            "overflow": null,
            "_model_module_version": "1.2.0",
            "_view_count": null,
            "flex_flow": null,
            "width": null,
            "min_width": null,
            "border": null,
            "align_items": null,
            "bottom": null,
            "_model_module": "@jupyter-widgets/base",
            "top": null,
            "grid_column": null,
            "overflow_y": null,
            "overflow_x": null,
            "grid_auto_flow": null,
            "grid_area": null,
            "grid_template_columns": null,
            "flex": null,
            "_model_name": "LayoutModel",
            "justify_items": null,
            "grid_row": null,
            "max_height": null,
            "align_content": null,
            "visibility": null,
            "align_self": null,
            "height": null,
            "min_height": null,
            "padding": null,
            "grid_auto_rows": null,
            "grid_gap": null,
            "max_width": null,
            "order": null,
            "_view_module_version": "1.2.0",
            "grid_template_areas": null,
            "object_position": null,
            "object_fit": null,
            "grid_auto_columns": null,
            "margin": null,
            "display": null,
            "left": null
          }
        },
        "1008f74a45984ca88b6428891d431a2b": {
          "model_module": "@jupyter-widgets/controls",
          "model_name": "DescriptionStyleModel",
          "model_module_version": "1.5.0",
          "state": {
            "_view_name": "StyleView",
            "_model_name": "DescriptionStyleModel",
            "description_width": "",
            "_view_module": "@jupyter-widgets/base",
            "_model_module_version": "1.5.0",
            "_view_count": null,
            "_view_module_version": "1.2.0",
            "_model_module": "@jupyter-widgets/controls"
          }
        },
        "4daa8684e09e4019b502526f8b4b030a": {
          "model_module": "@jupyter-widgets/base",
          "model_name": "LayoutModel",
          "model_module_version": "1.2.0",
          "state": {
            "_view_name": "LayoutView",
            "grid_template_rows": null,
            "right": null,
            "justify_content": null,
            "_view_module": "@jupyter-widgets/base",
            "overflow": null,
            "_model_module_version": "1.2.0",
            "_view_count": null,
            "flex_flow": null,
            "width": null,
            "min_width": null,
            "border": null,
            "align_items": null,
            "bottom": null,
            "_model_module": "@jupyter-widgets/base",
            "top": null,
            "grid_column": null,
            "overflow_y": null,
            "overflow_x": null,
            "grid_auto_flow": null,
            "grid_area": null,
            "grid_template_columns": null,
            "flex": null,
            "_model_name": "LayoutModel",
            "justify_items": null,
            "grid_row": null,
            "max_height": null,
            "align_content": null,
            "visibility": null,
            "align_self": null,
            "height": null,
            "min_height": null,
            "padding": null,
            "grid_auto_rows": null,
            "grid_gap": null,
            "max_width": null,
            "order": null,
            "_view_module_version": "1.2.0",
            "grid_template_areas": null,
            "object_position": null,
            "object_fit": null,
            "grid_auto_columns": null,
            "margin": null,
            "display": null,
            "left": null
          }
        }
      }
    }
  },
  "cells": [
    {
      "cell_type": "markdown",
      "metadata": {
        "id": "Und2nkdbS6QV"
      },
      "source": [
        "References:\n",
        "\n",
        "*   https://nextjournal.com/gkoehler/pytorch-mnist\n",
        "*   https://www.analyticsvidhya.com/blog/2021/05/a-complete-hands-on-guide-to-train-your-neural-network-model-on-google-colab-gpu/\n",
        "*   https://pytorch.org/tutorials/beginner/blitz/neural_networks_tutorial.html"
      ]
    },
    {
      "cell_type": "code",
      "metadata": {
        "id": "dxpm_SRjeu4G"
      },
      "source": [
        "import numpy as np\n",
        "import matplotlib.pyplot as plt\n",
        "import torch\n",
        "import torch.nn as nn\n",
        "import torch.nn.functional as F\n",
        "import torch.optim as optim\n",
        "import torchvision as tv\n",
        "import torchvision.transforms as transforms"
      ],
      "execution_count": 1,
      "outputs": []
    },
    {
      "cell_type": "markdown",
      "metadata": {
        "id": "0RqXiFbPgr5V"
      },
      "source": [
        "# Defining the Convolutional Neural Net\n"
      ]
    },
    {
      "cell_type": "code",
      "metadata": {
        "id": "HVJlMlcXe13g"
      },
      "source": [
        "class Net(nn.Module):\n",
        "    \n",
        "    def __init__(self):\n",
        "        super(Net, self).__init__()\n",
        "        \n",
        "        self.pool = nn.MaxPool2d(2, 2)\n",
        "        self.drop = nn.Dropout(p=0.5)\n",
        "        \n",
        "        self.conv1 = nn.Conv2d(1, 64, 3, 1, 1)\n",
        "        self.conv2 = nn.Conv2d(64, 128, 3, 1, 1)\n",
        "        self.conv3 = nn.Conv2d(128, 256, 3, 1, 1)\n",
        "        self.conv4 = nn.Conv2d(256, 256, 3, 1, 1)\n",
        "        self.conv5 = nn.Conv2d(256, 512, 3, 1, 1)\n",
        "        self.conv6 = nn.Conv2d(512, 512, 3, 1, 1)\n",
        "        self.conv7 = nn.Conv2d(512, 512, 3, 1, 1)\n",
        "        self.conv8 = nn.Conv2d(512, 512, 3, 1, 1)\n",
        "        \n",
        "        self.bnorm1 = nn.BatchNorm2d(64)\n",
        "        self.bnorm2 = nn.BatchNorm2d(128)\n",
        "        self.bnorm3 = nn.BatchNorm2d(256)\n",
        "        self.bnorm4 = nn.BatchNorm2d(256)\n",
        "        self.bnorm5 = nn.BatchNorm2d(512)\n",
        "        self.bnorm6 = nn.BatchNorm2d(512)\n",
        "        self.bnorm7 = nn.BatchNorm2d(512)\n",
        "        self.bnorm8 = nn.BatchNorm2d(512)\n",
        "        \n",
        "        self.fc1 = nn.Linear(512, 4096)\n",
        "        self.fc2 = nn.Linear(4096, 4096)\n",
        "        self.fc3 = nn.Linear(4096, 10)\n",
        "        \n",
        "    def forward(self, x):\n",
        "        x = self.conv1(x)\n",
        "        x = self.pool(F.relu(self.bnorm1(x)))\n",
        "        \n",
        "        x = self.conv2(x)\n",
        "        x = self.pool(F.relu(self.bnorm2(x)))\n",
        "        \n",
        "        x = self.conv3(x)\n",
        "        x = F.relu(self.bnorm3(x))\n",
        "        \n",
        "        x = self.conv4(x)\n",
        "        x = self.pool(F.relu(self.bnorm4(x)))\n",
        "        \n",
        "        x = self.conv5(x)\n",
        "        x = F.relu(self.bnorm5(x))\n",
        "        \n",
        "        x = self.conv6(x)\n",
        "        x = self.pool(F.relu(self.bnorm6(x)))\n",
        "        \n",
        "        x = self.conv7(x)\n",
        "        x = F.relu(self.bnorm7(x))\n",
        "        \n",
        "        x = self.conv8(x)\n",
        "        x = self.pool(F.relu(self.bnorm8(x)))\n",
        "\n",
        "        x = torch.flatten(x, 1)\n",
        "        x = self.drop(F.relu(self.fc1(x)))\n",
        "        x = self.drop(F.relu(self.fc2(x)))\n",
        "        x = self.fc3(x)\n",
        "        return x\n",
        "        "
      ],
      "execution_count": 2,
      "outputs": []
    },
    {
      "cell_type": "markdown",
      "metadata": {
        "id": "QaG4SnV2gxve"
      },
      "source": [
        "## Training / Test Datasets"
      ]
    },
    {
      "cell_type": "code",
      "metadata": {
        "id": "eC1lh80Be3WK"
      },
      "source": [
        "def get_default_device():\n",
        "    if torch.cuda.is_available():\n",
        "        return torch.device('cuda')\n",
        "    else:\n",
        "        return torch.device('cpu')"
      ],
      "execution_count": 3,
      "outputs": []
    },
    {
      "cell_type": "code",
      "metadata": {
        "id": "HJ7PUueQpnyQ"
      },
      "source": [
        "def to_device(data, device):\n",
        "    if isinstance(data, (list,tuple)):\n",
        "        return [to_device(x, device) for x in data]\n",
        "    return data.to(device, non_blocking=True)"
      ],
      "execution_count": 4,
      "outputs": []
    },
    {
      "cell_type": "code",
      "metadata": {
        "id": "nKDkyXQKpoRY"
      },
      "source": [
        "class DeviceDataLoader():\n",
        "    def __init__(self,dl,device):\n",
        "      self.dl = dl\n",
        "      self.device = device\n",
        "    def __iter__(self):\n",
        "      for b in self.dl:\n",
        "        yield to_device(b, self.device)\n",
        "    def __len__(self):\n",
        "      return len(self.dl)"
      ],
      "execution_count": 5,
      "outputs": []
    },
    {
      "cell_type": "code",
      "metadata": {
        "id": "h1_3EIIyfMr4",
        "colab": {
          "base_uri": "https://localhost:8080/",
          "height": 414,
          "referenced_widgets": [
            "28413b27522b477a9b99a8fdcc2c449d",
            "73e53266cea44232bb15c0eca802beb7",
            "92e63fab2ea1431daa754c6dbc0ffd85",
            "7e6548070a244c0faa70dfcabbfa5cf6",
            "ef6e65b5d3a5496ab72f779664c3117e",
            "8e4c4d4a979e447caf550fa45449dc82",
            "7ca51c32aa634df98f25ec4d5cc57feb",
            "3ca717dbb153418397cd163cdb3a2de9",
            "3848a08ca30640dda4e2c514463a03d7",
            "7435373dee2f476cac5213610e986bac",
            "bc89c52a3085435cb40f6f31b8e66a09",
            "099e189c25a741c3b69ee8874f57309a",
            "2d65649ec6664fc2a96e0a66ae49215a",
            "e0798996a87541b9acd48f8ed75d9247",
            "34849a93543b4ba183c310d5954c1b66",
            "9af644cd32714e688946c784046a0443",
            "1e695b8a915c4a47ae46ab5f6ac2bece",
            "4781ef0ef4e8418690e68edaf5a4ea3d",
            "bcf54cc18a6249e2b8054a48c7287f08",
            "76a3184aa1874a47b9cea1203577b5bf",
            "e11114d0654c4266a795e08e74f697a0",
            "705ae00c50b4420b954f3bbeb1db56e2",
            "c250afe61e0c44fd8260d55ea8e29271",
            "db60ab9415f64dfbb938810fef9bd424",
            "083d42cebf2c4332bf158987c6ed6861",
            "193ae7e72b0e4bc9ae1c95f4ad0ca3ee",
            "2157a84dbe894ea8a741900ca7f96d58",
            "bb642c36711d4601b19c9425483af041",
            "14b5e300a97e4e019fc823e4f22b2d55",
            "3d1bd06072c24eb4af25303c44ca54f6",
            "a6d12e1a77e440f4b2851408700f9c9c",
            "f60271b8aa124912b88c33d6a1822220",
            "de5e57296ab44321a8d4a624b8072e41",
            "6940f97d183a4425915d43565c25ecff",
            "202bc5ec30ad4adbb703f23de1ee9b73",
            "7b7b3e84542241bf826b323a350e0ed4",
            "4d82978310f94c65a7764ef332664056",
            "de78ed93f68744869f8dafe7a332f41b",
            "95eca037d5fb4feab3ab3ffc06574242",
            "b026ce7d9eed495eb8ebf160f8985313",
            "88086f049dec4e04a849a18e431b0144",
            "f023dc22d2564ce3a67ed050ee9dcd6a",
            "1008f74a45984ca88b6428891d431a2b",
            "4daa8684e09e4019b502526f8b4b030a"
          ]
        },
        "outputId": "f0ebeaf7-0daa-4ead-b9f0-919afc6c8dcb"
      },
      "source": [
        "trainset = tv.datasets.MNIST(\n",
        "    root='./MNISTdataset', \n",
        "    train=True, \n",
        "    download=True, \n",
        "    transform=transforms.Compose(\n",
        "        [transforms.Resize(32), transforms.ToTensor()]\n",
        "    ),\n",
        ")\n",
        "vertifliptrainset = tv.datasets.MNIST(\n",
        "    root='./MNISTdataset', \n",
        "    train=True, \n",
        "    download=True, \n",
        "    transform=transforms.Compose(\n",
        "        [transforms.Resize(32), transforms.RandomVerticalFlip(p=1), transforms.ToTensor()]\n",
        "    ),\n",
        ")\n",
        "horifliptrainset = tv.datasets.MNIST(\n",
        "    root='./MNISTdataset', \n",
        "    train=True, \n",
        "    download=True, \n",
        "    transform=transforms.Compose(\n",
        "        [transforms.Resize(32), transforms.RandomHorizontalFlip(p=1), transforms.ToTensor()]\n",
        "    ),\n",
        ")\n",
        "gaussiannoisetrainset = tv.datasets.MNIST(\n",
        "    root='./MNISTdataset', \n",
        "    train=True, \n",
        "    download=True, \n",
        "    transform=transforms.Compose(\n",
        "        [transforms.Resize(32), transforms.ToTensor(), transforms.Lambda(lambda x : x + 0.1*torch.randn_like(x))]\n",
        "    ),\n",
        ")\n",
        "stronggaussiannoisetrainset = tv.datasets.MNIST(\n",
        "    root='./MNISTdataset', \n",
        "    train=True, \n",
        "    download=True, \n",
        "    transform=transforms.Compose(\n",
        "        [transforms.Resize(32), transforms.ToTensor(), transforms.Lambda(lambda x : x + 1*torch.randn_like(x))]\n",
        "    ),\n",
        ")\n",
        "augmentedtrainset = torch.utils.data.ConcatDataset([trainset,vertifliptrainset,horifliptrainset,gaussiannoisetrainset,stronggaussiannoisetrainset])"
      ],
      "execution_count": 6,
      "outputs": [
        {
          "output_type": "stream",
          "name": "stdout",
          "text": [
            "Downloading http://yann.lecun.com/exdb/mnist/train-images-idx3-ubyte.gz\n",
            "Downloading http://yann.lecun.com/exdb/mnist/train-images-idx3-ubyte.gz to ./MNISTdataset/MNIST/raw/train-images-idx3-ubyte.gz\n"
          ]
        },
        {
          "output_type": "display_data",
          "data": {
            "application/vnd.jupyter.widget-view+json": {
              "model_id": "28413b27522b477a9b99a8fdcc2c449d",
              "version_minor": 0,
              "version_major": 2
            },
            "text/plain": [
              "  0%|          | 0/9912422 [00:00<?, ?it/s]"
            ]
          },
          "metadata": {}
        },
        {
          "output_type": "stream",
          "name": "stdout",
          "text": [
            "Extracting ./MNISTdataset/MNIST/raw/train-images-idx3-ubyte.gz to ./MNISTdataset/MNIST/raw\n",
            "\n",
            "Downloading http://yann.lecun.com/exdb/mnist/train-labels-idx1-ubyte.gz\n",
            "Downloading http://yann.lecun.com/exdb/mnist/train-labels-idx1-ubyte.gz to ./MNISTdataset/MNIST/raw/train-labels-idx1-ubyte.gz\n"
          ]
        },
        {
          "output_type": "display_data",
          "data": {
            "application/vnd.jupyter.widget-view+json": {
              "model_id": "099e189c25a741c3b69ee8874f57309a",
              "version_minor": 0,
              "version_major": 2
            },
            "text/plain": [
              "  0%|          | 0/28881 [00:00<?, ?it/s]"
            ]
          },
          "metadata": {}
        },
        {
          "output_type": "stream",
          "name": "stdout",
          "text": [
            "Extracting ./MNISTdataset/MNIST/raw/train-labels-idx1-ubyte.gz to ./MNISTdataset/MNIST/raw\n",
            "\n",
            "Downloading http://yann.lecun.com/exdb/mnist/t10k-images-idx3-ubyte.gz\n",
            "Downloading http://yann.lecun.com/exdb/mnist/t10k-images-idx3-ubyte.gz to ./MNISTdataset/MNIST/raw/t10k-images-idx3-ubyte.gz\n"
          ]
        },
        {
          "output_type": "display_data",
          "data": {
            "application/vnd.jupyter.widget-view+json": {
              "model_id": "c250afe61e0c44fd8260d55ea8e29271",
              "version_minor": 0,
              "version_major": 2
            },
            "text/plain": [
              "  0%|          | 0/1648877 [00:00<?, ?it/s]"
            ]
          },
          "metadata": {}
        },
        {
          "output_type": "stream",
          "name": "stdout",
          "text": [
            "Extracting ./MNISTdataset/MNIST/raw/t10k-images-idx3-ubyte.gz to ./MNISTdataset/MNIST/raw\n",
            "\n",
            "Downloading http://yann.lecun.com/exdb/mnist/t10k-labels-idx1-ubyte.gz\n",
            "Downloading http://yann.lecun.com/exdb/mnist/t10k-labels-idx1-ubyte.gz to ./MNISTdataset/MNIST/raw/t10k-labels-idx1-ubyte.gz\n"
          ]
        },
        {
          "output_type": "display_data",
          "data": {
            "application/vnd.jupyter.widget-view+json": {
              "model_id": "6940f97d183a4425915d43565c25ecff",
              "version_minor": 0,
              "version_major": 2
            },
            "text/plain": [
              "  0%|          | 0/4542 [00:00<?, ?it/s]"
            ]
          },
          "metadata": {}
        },
        {
          "output_type": "stream",
          "name": "stdout",
          "text": [
            "Extracting ./MNISTdataset/MNIST/raw/t10k-labels-idx1-ubyte.gz to ./MNISTdataset/MNIST/raw\n",
            "\n"
          ]
        }
      ]
    },
    {
      "cell_type": "code",
      "metadata": {
        "id": "r_u5vJeygNac"
      },
      "source": [
        "device = get_default_device()\n",
        "augmentedtrainloader = DeviceDataLoader(torch.utils.data.DataLoader(augmentedtrainset, batch_size=64, shuffle=True), device)"
      ],
      "execution_count": 7,
      "outputs": []
    },
    {
      "cell_type": "code",
      "metadata": {
        "id": "XXQQRPTfgHRM"
      },
      "source": [
        "\n",
        "testset = tv.datasets.MNIST(\n",
        "    root='./MNISTdataset', \n",
        "    train=False, \n",
        "    download=True, \n",
        "    transform=transforms.Compose(\n",
        "        [transforms.Resize(32), transforms.ToTensor(),]\n",
        "    ),\n",
        ")\n",
        "vertifliptestset = tv.datasets.MNIST(\n",
        "    root='./MNISTdataset', \n",
        "    train=False, \n",
        "    download=True, \n",
        "    transform=transforms.Compose(\n",
        "        [transforms.Resize(32), transforms.RandomVerticalFlip(p=1), transforms.ToTensor()]\n",
        "    ),\n",
        ")\n",
        "horifliptestset = tv.datasets.MNIST(\n",
        "    root='./MNISTdataset', \n",
        "    train=False, \n",
        "    download=True, \n",
        "    transform=transforms.Compose(\n",
        "        [transforms.Resize(32), transforms.RandomHorizontalFlip(p=1), transforms.ToTensor()]\n",
        "    ),\n",
        ")\n",
        "gaussiannoisetestset = tv.datasets.MNIST(\n",
        "    root='./MNISTdataset', \n",
        "    train=False, \n",
        "    download=True, \n",
        "    transform=transforms.Compose(\n",
        "        [transforms.Resize(32), transforms.ToTensor(), transforms.Lambda(lambda x : x + 0.1*torch.randn_like(x))]\n",
        "    ),\n",
        ")"
      ],
      "execution_count": 8,
      "outputs": []
    },
    {
      "cell_type": "code",
      "metadata": {
        "id": "uRWJFEpogJmH"
      },
      "source": [
        "testloader = DeviceDataLoader(torch.utils.data.DataLoader(testset, batch_size=1024, shuffle=False), device)\n",
        "vertifliptestloader = DeviceDataLoader(torch.utils.data.DataLoader(vertifliptestset, batch_size=1024, shuffle=False), device)\n",
        "horifliptestloader = DeviceDataLoader(torch.utils.data.DataLoader(horifliptestset, batch_size=1024, shuffle=False), device)\n",
        "def gaussiannoisetestloader(variance):\n",
        "  return DeviceDataLoader(torch.utils.data.DataLoader(tv.datasets.MNIST(\n",
        "                                                        root='./MNISTdataset', \n",
        "                                                        train=False, \n",
        "                                                        download=True, \n",
        "                                                        transform=transforms.Compose(\n",
        "                                                            [transforms.Resize(32), transforms.ToTensor(), transforms.Lambda(lambda x : x + variance*torch.randn_like(x))]\n",
        "                                                        ),\n",
        "                                                    ), batch_size=1024, shuffle=False), device)"
      ],
      "execution_count": 9,
      "outputs": []
    },
    {
      "cell_type": "markdown",
      "metadata": {
        "id": "X4ZuVhLohFT2"
      },
      "source": [
        "# Training the Neural Net\n",
        "Our training data is an augmented training set derived by flipping the original data samples vertically or horizontally or by adding gaussian noise."
      ]
    },
    {
      "cell_type": "code",
      "metadata": {
        "id": "oTQyAx6kfrGv"
      },
      "source": [
        "net = Net()\n",
        "net.cuda()\n",
        "optimizer = optim.SGD(net.parameters(), lr=0.01, momentum=0.9)\n",
        "criterion = nn.CrossEntropyLoss()"
      ],
      "execution_count": 10,
      "outputs": []
    },
    {
      "cell_type": "code",
      "metadata": {
        "id": "KaX9vdYSfydQ"
      },
      "source": [
        "for epoch in range(1,6):\n",
        "  net.train()\n",
        "  for i, (inputs, label) in enumerate(augmentedtrainloader):\n",
        "    optimizer.zero_grad()\n",
        "    outputs = net(inputs)\n",
        "    loss = criterion(outputs, label)\n",
        "    loss.backward()\n",
        "    optimizer.step()\n",
        "    loss.detach()\n",
        "    if i % 20 == 19:\n",
        "      print('Train Epoch: {} [{}/{} ({:.0f}%)]\\tLoss: {:.6f}'.format(\n",
        "        epoch, i * len(inputs), len(augmentedtrainloader.dl.dataset),\n",
        "        100. * i / len(augmentedtrainloader), loss.item()))\n",
        "torch.save(net.state_dict(), \"augmentedmodel.pth\")"
      ],
      "execution_count": null,
      "outputs": []
    },
    {
      "cell_type": "markdown",
      "metadata": {
        "id": "VcFauQzktrcy"
      },
      "source": [
        "# Testing the network"
      ]
    },
    {
      "cell_type": "code",
      "metadata": {
        "id": "3iSnrlTftp3z"
      },
      "source": [
        "def test(path, loader, testName):\n",
        "  net.load_state_dict(torch.load(path))\n",
        "  net.eval()\n",
        "  test_loss = 0\n",
        "  correct = 0\n",
        "  with torch.no_grad():\n",
        "    for inputs, label in loader:\n",
        "      outputs = net(inputs)\n",
        "      test_loss += criterion(outputs, label)\n",
        "      pred = outputs.data.max(1, keepdim=True)[1]\n",
        "      correct += pred.eq(label.data.view_as(pred)).sum()\n",
        "    test_loss /= len(loader.dl.dataset)\n",
        "    print('\\n{} set: Avg. loss: {:.8f}, Accuracy: {}/{} ({:.0f}%)\\n'.format(\n",
        "      testName, test_loss, correct, len(loader.dl.dataset),\n",
        "      100. * correct / len(loader.dl.dataset)))\n",
        "    return correct / len(loader.dl.dataset)"
      ],
      "execution_count": 12,
      "outputs": []
    },
    {
      "cell_type": "code",
      "metadata": {
        "id": "Qrp32d2QvuRq",
        "colab": {
          "base_uri": "https://localhost:8080/"
        },
        "outputId": "64094899-010f-4263-c4cd-a047d6bf6cfc"
      },
      "source": [
        "accuracy = np.zeros(7)\n",
        "testloaders = [testloader, vertifliptestloader, horifliptestloader, gaussiannoisetestloader(0.01), gaussiannoisetestloader(0.1), gaussiannoisetestloader(1)]\n",
        "\n",
        "accuracy[0] = test(\"augmentedmodel.pth\", augmentedtrainloader, \"train\")\n",
        "\n",
        "for i in range(6):\n",
        "  accuracy[i+1] = test(\"augmentedmodel.pth\", testloaders[i], \"test\" + str(i))"
      ],
      "execution_count": 31,
      "outputs": [
        {
          "output_type": "stream",
          "name": "stdout",
          "text": [
            "\n",
            "train set: Avg. loss: 0.00123120, Accuracy: 292239/300000 (97%)\n",
            "\n",
            "\n",
            "test0 set: Avg. loss: 0.00005654, Accuracy: 9833/10000 (98%)\n",
            "\n",
            "\n",
            "test1 set: Avg. loss: 0.00003633, Accuracy: 9893/10000 (99%)\n",
            "\n",
            "\n",
            "test2 set: Avg. loss: 0.00004389, Accuracy: 9863/10000 (99%)\n",
            "\n",
            "\n",
            "test3 set: Avg. loss: 0.00005302, Accuracy: 9846/10000 (98%)\n",
            "\n",
            "\n",
            "test4 set: Avg. loss: 0.00003143, Accuracy: 9900/10000 (99%)\n",
            "\n",
            "\n",
            "test5 set: Avg. loss: 0.00031654, Accuracy: 8944/10000 (89%)\n",
            "\n"
          ]
        }
      ]
    },
    {
      "cell_type": "markdown",
      "metadata": {
        "id": "9Llpo7Hbkl3k"
      },
      "source": [
        "## Plotting the Results"
      ]
    },
    {
      "cell_type": "code",
      "metadata": {
        "id": "1kOGB5OxkkSP",
        "colab": {
          "base_uri": "https://localhost:8080/",
          "height": 281
        },
        "outputId": "0b696eb6-a19d-4375-b12e-3524cb5b1d8f"
      },
      "source": [
        "plt.bar([2,4,6,8,10,12,14], accuracy, 1, tick_label=[\"training\",\"test\",\"V flip\",\"H flip\",\"S noise\", \"M noise\", \"L noise\"])\n",
        "plt.ylabel(\"accuracy\")\n",
        "plt.ylim(0,1)\n",
        "plt.title(\"Accuracy on differently processed datasets\")\n",
        "plt.savefig(\"testresults.pdf\")"
      ],
      "execution_count": 32,
      "outputs": [
        {
          "output_type": "display_data",
          "data": {
            "image/png": "[encoded data removed]",
            "text/plain": [
              "<Figure size 432x288 with 1 Axes>"
            ]
          },
          "metadata": {
            "needs_background": "light"
          }
        }
      ]
    },
    {
      "cell_type": "code",
      "metadata": {
        "colab": {
          "base_uri": "https://localhost:8080/"
        },
        "id": "r8QZ9PoHPNXJ",
        "outputId": "94effbdc-842a-426c-fbf6-7760c991bf50"
      },
      "source": [
        "from tabulate import tabulate\n",
        "percent_accuracy = [0] * 7\n",
        "for i,acc in enumerate(accuracy):\n",
        "  percent_accuracy[i] = str(\"{:.2f}\".format(100. * acc)) + \"%\"\n",
        "table = [[\"training\",\"vanilla test\",\"vertical flip\",\"horizontal flip\",\"weak noise\", \"medium noise\", \"strong noise\"], percent_accuracy]\n",
        "table = [[row[i] for row in table] for i in range(len(table[0]))]\n",
        "print(tabulate(table, headers=[\"test set\",\"accuracy\"]))"
      ],
      "execution_count": 54,
      "outputs": [
        {
          "output_type": "stream",
          "name": "stdout",
          "text": [
            "test set         accuracy\n",
            "---------------  ----------\n",
            "training         97.41%\n",
            "vanilla test     98.33%\n",
            "vertical flip    98.93%\n",
            "horizontal flip  98.63%\n",
            "weak noise       98.46%\n",
            "medium noise     99.00%\n",
            "strong noise     89.44%\n"
          ]
        }
      ]
    }
  ]
}